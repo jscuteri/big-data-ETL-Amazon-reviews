{
  "cells": [
    {
      "cell_type": "markdown",
      "metadata": {
        "id": "view-in-github",
        "colab_type": "text"
      },
      "source": [
        "<a href=\"https://colab.research.google.com/github/jscuteri/big-data-challenge/blob/main/big_data_challenge_video_games.ipynb\" target=\"_parent\"><img src=\"https://colab.research.google.com/assets/colab-badge.svg\" alt=\"Open In Colab\"/></a>"
      ]
    },
    {
      "cell_type": "code",
      "execution_count": 4,
      "metadata": {
        "colab": {
          "base_uri": "https://localhost:8080/"
        },
        "id": "BR7kMdb2n6CD",
        "outputId": "2a661afc-31ef-40eb-a5ba-c92f90545c7f"
      },
      "outputs": [
        {
          "output_type": "stream",
          "name": "stdout",
          "text": [
            "Get:1 https://cloud.r-project.org/bin/linux/ubuntu bionic-cran40/ InRelease [3,626 B]\n",
            "Get:2 http://security.ubuntu.com/ubuntu bionic-security InRelease [88.7 kB]\n",
            "Get:3 https://cloud.r-project.org/bin/linux/ubuntu bionic-cran40/ Packages [76.8 kB]\n",
            "Hit:4 http://archive.ubuntu.com/ubuntu bionic InRelease\n",
            "Get:5 http://ppa.launchpad.net/c2d4u.team/c2d4u4.0+/ubuntu bionic InRelease [15.9 kB]\n",
            "Get:6 http://archive.ubuntu.com/ubuntu bionic-updates InRelease [88.7 kB]\n",
            "Ign:7 https://developer.download.nvidia.com/compute/cuda/repos/ubuntu1804/x86_64  InRelease\n",
            "Ign:8 https://developer.download.nvidia.com/compute/machine-learning/repos/ubuntu1804/x86_64  InRelease\n",
            "Get:9 https://developer.download.nvidia.com/compute/cuda/repos/ubuntu1804/x86_64  Release [696 B]\n",
            "Hit:10 https://developer.download.nvidia.com/compute/machine-learning/repos/ubuntu1804/x86_64  Release\n",
            "Get:11 https://developer.download.nvidia.com/compute/cuda/repos/ubuntu1804/x86_64  Release.gpg [836 B]\n",
            "Hit:12 http://ppa.launchpad.net/cran/libgit2/ubuntu bionic InRelease\n",
            "Get:13 http://security.ubuntu.com/ubuntu bionic-security/restricted amd64 Packages [806 kB]\n",
            "Get:15 http://archive.ubuntu.com/ubuntu bionic-backports InRelease [74.6 kB]\n",
            "Get:16 https://developer.download.nvidia.com/compute/cuda/repos/ubuntu1804/x86_64  Packages [931 kB]\n",
            "Hit:17 http://ppa.launchpad.net/deadsnakes/ppa/ubuntu bionic InRelease\n",
            "Get:18 http://ppa.launchpad.net/graphics-drivers/ppa/ubuntu bionic InRelease [21.3 kB]\n",
            "Get:19 http://security.ubuntu.com/ubuntu bionic-security/universe amd64 Packages [1,474 kB]\n",
            "Get:20 http://archive.ubuntu.com/ubuntu bionic-updates/universe amd64 Packages [2,252 kB]\n",
            "Get:21 http://security.ubuntu.com/ubuntu bionic-security/main amd64 Packages [2,596 kB]\n",
            "Get:22 http://ppa.launchpad.net/c2d4u.team/c2d4u4.0+/ubuntu bionic/main Sources [1,827 kB]\n",
            "Get:23 http://archive.ubuntu.com/ubuntu bionic-updates/main amd64 Packages [3,036 kB]\n",
            "Get:24 http://archive.ubuntu.com/ubuntu bionic-updates/restricted amd64 Packages [840 kB]\n",
            "Get:25 http://ppa.launchpad.net/c2d4u.team/c2d4u4.0+/ubuntu bionic/main amd64 Packages [936 kB]\n",
            "Get:26 http://ppa.launchpad.net/graphics-drivers/ppa/ubuntu bionic/main amd64 Packages [42.8 kB]\n",
            "Fetched 15.1 MB in 7s (2,125 kB/s)\n",
            "Reading package lists... Done\n"
          ]
        }
      ],
      "source": [
        "import os\n",
        "# Find the latest version of spark 3.0  from http://www.apache.org/dist/spark/ and enter as the spark version\n",
        "# For example:\n",
        "# spark_version = 'spark-3.0.3'\n",
        "spark_version = 'spark-3.2.1'\n",
        "os.environ['SPARK_VERSION']=spark_version\n",
        "\n",
        "# Install Spark and Java\n",
        "!apt-get update\n",
        "!apt-get install openjdk-8-jdk-headless -qq > /dev/null\n",
        "!wget -q http://www.apache.org/dist/spark/$SPARK_VERSION/$SPARK_VERSION-bin-hadoop2.7.tgz\n",
        "!tar xf $SPARK_VERSION-bin-hadoop2.7.tgz\n",
        "!pip install -q findspark\n",
        "\n",
        "# Set Environment Variables\n",
        "os.environ[\"JAVA_HOME\"] = \"/usr/lib/jvm/java-8-openjdk-amd64\"\n",
        "os.environ[\"SPARK_HOME\"] = f\"/content/{spark_version}-bin-hadoop2.7\"\n",
        "\n",
        "# Start a SparkSession\n",
        "import findspark\n",
        "findspark.init()"
      ]
    },
    {
      "cell_type": "code",
      "source": [
        "# import the SQL\n",
        "\n",
        "!wget https://jdbc.postgresql.org/download/postgresql-42.2.9.jar"
      ],
      "metadata": {
        "colab": {
          "base_uri": "https://localhost:8080/"
        },
        "id": "H1KhoRNMzb1c",
        "outputId": "52de017d-13e2-4ac8-e22e-12c96740e366"
      },
      "execution_count": 5,
      "outputs": [
        {
          "output_type": "stream",
          "name": "stdout",
          "text": [
            "--2022-03-06 20:00:45--  https://jdbc.postgresql.org/download/postgresql-42.2.9.jar\n",
            "Resolving jdbc.postgresql.org (jdbc.postgresql.org)... 72.32.157.228, 2001:4800:3e1:1::228\n",
            "Connecting to jdbc.postgresql.org (jdbc.postgresql.org)|72.32.157.228|:443... connected.\n",
            "HTTP request sent, awaiting response... 200 OK\n",
            "Length: 914037 (893K) [application/java-archive]\n",
            "Saving to: ‘postgresql-42.2.9.jar.1’\n",
            "\n",
            "postgresql-42.2.9.j 100%[===================>] 892.61K  1.34MB/s    in 0.7s    \n",
            "\n",
            "2022-03-06 20:00:47 (1.34 MB/s) - ‘postgresql-42.2.9.jar.1’ saved [914037/914037]\n",
            "\n"
          ]
        }
      ]
    },
    {
      "cell_type": "code",
      "source": [
        "# Create a new session\n",
        "from pyspark.sql import SparkSession\n",
        "spark = SparkSession.builder.appName(\"CloudETL\").config(\"spark.driver.extraClassPath\",\"/content/postgresql-42.2.9.jar\").getOrCreate()\n"
      ],
      "metadata": {
        "id": "5maP4IBnzbGX"
      },
      "execution_count": 6,
      "outputs": []
    },
    {
      "cell_type": "code",
      "execution_count": 15,
      "metadata": {
        "id": "hEPteR-3oADS",
        "colab": {
          "base_uri": "https://localhost:8080/"
        },
        "outputId": "03128104-0295-45a5-d8e7-882e8d2c3037"
      },
      "outputs": [
        {
          "output_type": "stream",
          "name": "stdout",
          "text": [
            "+-----------+-----------+--------------+----------+--------------+--------------------+----------------+-----------+-------------+-----------+----+-----------------+--------------------+--------------------+-----------+\n",
            "|marketplace|customer_id|     review_id|product_id|product_parent|       product_title|product_category|star_rating|helpful_votes|total_votes|vine|verified_purchase|     review_headline|         review_body|review_date|\n",
            "+-----------+-----------+--------------+----------+--------------+--------------------+----------------+-----------+-------------+-----------+----+-----------------+--------------------+--------------------+-----------+\n",
            "|         US|   12039526| RTIS3L2M1F5SM|B001CXYMFS|     737716809|Thrustmaster T-Fl...|     Video Games|          5|            0|          0|   N|                Y|an amazing joysti...|Used this for Eli...| 2015-08-31|\n",
            "|         US|    9636577| R1ZV7R40OLHKD|B00M920ND6|     569686175|Tonsee 6 buttons ...|     Video Games|          5|            0|          0|   N|                Y|Definitely a sile...|Loved it,  I didn...| 2015-08-31|\n",
            "|         US|    2331478|R3BH071QLH8QMC|B0029CSOD2|      98937668|Hidden Mysteries:...|     Video Games|          1|            0|          1|   N|                Y|            One Star|poor quality work...| 2015-08-31|\n",
            "|         US|   52495923|R127K9NTSXA2YH|B00GOOSV98|      23143350|GelTabz Performan...|     Video Games|          3|            0|          0|   N|                Y|good, but could b...|nice, but tend to...| 2015-08-31|\n",
            "|         US|   14533949|R32ZWUXDJPW27Q|B00Y074JOM|     821342511|Zero Suit Samus a...|     Video Games|          4|            0|          0|   N|                Y|   Great but flawed.|Great amiibo, gre...| 2015-08-31|\n",
            "|         US|    2377552|R3AQQ4YUKJWBA6|B002UBI6W6|     328764615|Psyclone Recharge...|     Video Games|          1|            0|          0|   N|                Y|            One Star|The remote consta...| 2015-08-31|\n",
            "|         US|   17521011|R2F0POU5K6F73F|B008XHCLFO|      24234603|Protection for yo...|     Video Games|          5|            0|          0|   N|                Y|              A Must|I have a 2012-201...| 2015-08-31|\n",
            "|         US|   19676307|R3VNR804HYSMR6|B00BRA9R6A|     682267517|   Nerf 3DS XL Armor|     Video Games|          5|            0|          0|   N|                Y|          Five Stars|Perfect, kids lov...| 2015-08-31|\n",
            "|         US|     224068| R3GZTM72WA2QH|B009EPWJLA|     435241890|One Piece: Pirate...|     Video Games|          5|            0|          0|   N|                Y|          Five Stars|            Excelent| 2015-08-31|\n",
            "|         US|   48467989| RNQOY62705W1K|B0000AV7GB|     256572651|Playstation 2 Dan...|     Video Games|          4|            0|          0|   N|                Y|          Four Stars|Slippery but expe...| 2015-08-31|\n",
            "|         US|     106569|R1VTIA3JTYBY02|B00008KTNN|     384411423|Metal Arms: Glitc...|     Video Games|          5|            0|          0|   N|                N|          Five Stars|Love the game. Se...| 2015-08-31|\n",
            "|         US|   48269642|R29DOU8791QZL8|B000A3IA0Y|     472622859|72 Pin Connector ...|     Video Games|          1|            0|          0|   N|                Y| Game will get stuck|Does not fit prop...| 2015-08-31|\n",
            "|         US|   52738710|R15DUT1VIJ9RJZ|B0053BQN34|     577628462|uDraw Gametablet ...|     Video Games|          2|            0|          0|   N|                Y|We have tried it ...|This was way too ...| 2015-08-31|\n",
            "|         US|   10556786|R3IMF2MQ3OU9ZM|B002I0HIMI|     988218515|NBA 2K12(Covers M...|     Video Games|          4|            0|          0|   N|                Y|          Four Stars|Works great good ...| 2015-08-31|\n",
            "|         US|    2963837|R23H79DHOZTYAU|B0081EH12M|     770100932|New Trigger Grips...|     Video Games|          1|            1|          1|   N|                Y|Now i have to buy...|It did not fit th...| 2015-08-31|\n",
            "|         US|   23092109| RIV24EQAIXA4O|B005FMLZQQ|      24647669|Xbox 360 Media Re...|     Video Games|          5|            0|          0|   N|                Y|          Five Stars|perfect lightweig...| 2015-08-31|\n",
            "|         US|   23091728|R3UCNGYDVN24YB|B002BSA388|      33706205|Super Mario Galaxy 2|     Video Games|          5|            0|          0|   N|                Y|          Five Stars|               great| 2015-08-31|\n",
            "|         US|   10712640| RUL4H4XTTN2DY|B00BUSLSAC|     829667834|Nintendo 3DS XL -...|     Video Games|          5|            0|          0|   N|                Y|          Five Stars|Works beautifully...| 2015-08-31|\n",
            "|         US|   17455376|R20JF7Z4DHTNX5|B00KWF38AW|     110680188|Captain Toad:  Tr...|     Video Games|          5|            0|          0|   N|                Y|          Five Stars|Kids loved the ga...| 2015-08-31|\n",
            "|         US|   14754850|R2T1AJ5MFI2260|B00BRQJYA8|     616463426|Lego Batman 2: DC...|     Video Games|          4|            0|          0|   N|                Y|          Four Stars|           Goodngame| 2015-08-31|\n",
            "+-----------+-----------+--------------+----------+--------------+--------------------+----------------+-----------+-------------+-----------+----+-----------------+--------------------+--------------------+-----------+\n",
            "only showing top 20 rows\n",
            "\n"
          ]
        }
      ],
      "source": [
        "from pyspark import SparkFiles\n",
        "from pyspark.sql.types import IntegerType\n",
        "from pyspark.sql.functions import col\n",
        "url = \"https://s3.amazonaws.com/amazon-reviews-pds/tsv/amazon_reviews_us_Video_Games_v1_00.tsv.gz\"\n",
        "spark.sparkContext.addFile(url)\n",
        "video_games_df = spark.read.csv(SparkFiles.get(\"amazon_reviews_us_Video_Games_v1_00.tsv.gz\"), sep=\"\\t\", header=True)\n",
        "video_games_df.show()"
      ]
    },
    {
      "cell_type": "code",
      "source": [
        "#Remove duplicates and na values\n",
        "video_games_df = video_games_df.dropna()\n",
        "video_games_df = video_games_df.dropDuplicates()\n",
        "video_games_df.printSchema()\n",
        "video_games_df.show()"
      ],
      "metadata": {
        "colab": {
          "base_uri": "https://localhost:8080/"
        },
        "id": "DsIFTgIX0n0u",
        "outputId": "c4c7c0aa-113c-40ee-fc5e-fd2a25bae205"
      },
      "execution_count": 17,
      "outputs": [
        {
          "output_type": "stream",
          "name": "stdout",
          "text": [
            "root\n",
            " |-- marketplace: string (nullable = true)\n",
            " |-- customer_id: string (nullable = true)\n",
            " |-- review_id: string (nullable = true)\n",
            " |-- product_id: string (nullable = true)\n",
            " |-- product_parent: string (nullable = true)\n",
            " |-- product_title: string (nullable = true)\n",
            " |-- product_category: string (nullable = true)\n",
            " |-- star_rating: string (nullable = true)\n",
            " |-- helpful_votes: string (nullable = true)\n",
            " |-- total_votes: string (nullable = true)\n",
            " |-- vine: string (nullable = true)\n",
            " |-- verified_purchase: string (nullable = true)\n",
            " |-- review_headline: string (nullable = true)\n",
            " |-- review_body: string (nullable = true)\n",
            " |-- review_date: string (nullable = true)\n",
            "\n",
            "+-----------+-----------+--------------+----------+--------------+--------------------+----------------+-----------+-------------+-----------+----+-----------------+--------------------+--------------------+-----------+\n",
            "|marketplace|customer_id|     review_id|product_id|product_parent|       product_title|product_category|star_rating|helpful_votes|total_votes|vine|verified_purchase|     review_headline|         review_body|review_date|\n",
            "+-----------+-----------+--------------+----------+--------------+--------------------+----------------+-----------+-------------+-----------+----+-----------------+--------------------+--------------------+-----------+\n",
            "|         US|   38281029|R1004PYTPK6ELD|B00004WHWF|      89143877|         Red Faction|     Video Games|          5|            0|          0|   N|                N|         great game!|if you played hal...| 2002-01-23|\n",
            "|         US|    1386752|R100EZDMO39LBZ|B00OZBFUBY|     872540442|USPRO&reg; PS3 Bl...|     Video Games|          4|            0|          0|   N|                Y|My experience buy...|I've had no probl...| 2015-06-10|\n",
            "|         US|   41907229|R1011I65X7RSKT|B00006ISBU|     654790631|       NBA Live 2003|     Video Games|          5|            2|          2|   N|                N|NBA 2K3 IS THE BE...|NBA LIVE 2003 AND...| 2003-12-23|\n",
            "|         US|   12034223|R101V84BKDOR1I|B001KX5042|     279727821|Imagine:  Cheerle...|     Video Games|          5|            0|          0|   N|                Y|          Five Stars|            EXCELENT| 2014-08-08|\n",
            "|         US|   31532612|R101VJUP2TFB3Y|B009DL2TBA|     586138868|PlayStation 3 500...|     Video Games|          5|            0|          0|   N|                Y|          Five Stars|     Very good +++++| 2015-01-05|\n",
            "|         US|   30645349|R1026A0A5F4D42|B00FEKQZE6|     681125586|Skylanders SWAP F...|     Video Games|          5|            5|          6|   N|                Y|His powers are aw...|&#34;He's very st...| 2014-04-21|\n",
            "|         US|   20191662|R102X78AGOZJY3|B000ZK9QCS|     699333646|      God of War III|     Video Games|          5|            0|          0|   N|                Y| GANE OF THE YEAR!!!|KRATOS!!!!!!!!!!!...| 2010-03-26|\n",
            "|         US|   20910843|R104THW8CUUZXC|B00DHF39EO|     100570084|The Elder Scrolls...|     Video Games|          1|            2|          6|   N|                Y|            One Star|The servers are t...| 2015-06-15|\n",
            "|         US|    2435449|R105YSA8EGSJ8D|B0053B5RGI|     413365293|           Pokemon X|     Video Games|          4|            0|          0|   N|                Y|          Four Stars|         Pretty good| 2015-02-26|\n",
            "|         US|    4159081|R106QTPT8YYZ1P|B000TGB4UA|      17513844|Tony Hawk's Provi...|     Video Games|          5|            1|          1|   N|                Y|          Five Stars|everything was great| 2015-04-22|\n",
            "|         US|   11343413|R106UDOJ2QSWOR|B00KVP78FE|     177244653|Sony PlayStation ...|     Video Games|          5|            0|          0|   N|                Y|Stand out from th...|It's a controller...| 2014-11-14|\n",
            "|         US|   22043357|R109G94NZM2I7R|B004XACA60|     432872195|Battlefield 3 - L...|     Video Games|          5|            0|          1|   N|                Y|          Great Game|Good game and lot...| 2012-03-21|\n",
            "|         US|   35555943|R10A0VLQRM6JIA|B000059TC8|     790267453|PlayStation 2 DVD...|     Video Games|          3|            3|          3|   N|                N|Great for dyslexi...|I got this with t...| 2002-11-21|\n",
            "|         US|     888889|R10ADC7LCXO3V2|B00NNU07RU|     255456687|    Xbox 360 Console|     Video Games|          1|            4|          7|   N|                Y|Got my xbox worke...|Got my xbox worke...| 2015-01-19|\n",
            "|         US|   35143662|R10BZXFK4OGIWR|B0056BE0ZY|     539066453|Jillian Michaels ...|     Video Games|          2|            2|          3|   N|                Y|Good concept, poo...|I was really exci...| 2012-01-16|\n",
            "|         US|   49055852|R10CHUP1MARXDJ|B00BMFIXZG|     175986677|  Assassin's Creed 4|     Video Games|          4|            0|          0|   N|                Y|          sweet game|i liked. i guess ...| 2014-01-24|\n",
            "|         US|   49424482|R10CJEFAH22TBO|B000MD3HQ4|     790701840|Playstation 2 Mag...|     Video Games|          5|            0|          0|   N|                Y|     nice controller|worked as describ...| 2013-08-18|\n",
            "|         US|   43836461|R10D0UXARMV36T|B0016B28Y8|     230974794|Call of Duty 4: M...|     Video Games|          5|            0|          0|   N|                N|Great Campaign, e...|I started out bor...| 2008-09-06|\n",
            "|         US|   15506517|R10DKHK39U0XAL|B0053BQU4G|     593744126|             WWE '12|     Video Games|          5|            0|          2|   N|                Y|               WWE12|Purchased this pr...| 2011-11-26|\n",
            "|         US|   47470194|R10EFCTVXFYWQV|B00JUFSH9M|       4448267|       Madden NFL 15|     Video Games|          4|            7|         11|   N|                N|Nobody can say an...|To say EA isn't t...| 2014-08-28|\n",
            "+-----------+-----------+--------------+----------+--------------+--------------------+----------------+-----------+-------------+-----------+----+-----------------+--------------------+--------------------+-----------+\n",
            "only showing top 20 rows\n",
            "\n"
          ]
        }
      ]
    },
    {
      "cell_type": "code",
      "source": [
        "# Count the number of records (rows) in the dataset\n",
        "video_games_df.count()"
      ],
      "metadata": {
        "colab": {
          "base_uri": "https://localhost:8080/"
        },
        "id": "V-e8BZGt30Xe",
        "outputId": "6f67cec2-6307-42c6-90af-e230445bde8f"
      },
      "execution_count": 18,
      "outputs": [
        {
          "output_type": "execute_result",
          "data": {
            "text/plain": [
              "1785886"
            ]
          },
          "metadata": {},
          "execution_count": 18
        }
      ]
    },
    {
      "cell_type": "code",
      "source": [
        "# Transform the dataset to fit the tables in the schema file\n",
        "from pyspark.sql.functions import to_date\n",
        "\n",
        "review_id_table = video_games_df.select([\"review_id\",  \"customer_id\", \"product_id\", \"product_parent\", to_date(\"review_date\", 'yyyy-MM-dd').alias(\"review_date\")])\n",
        "review_id_table.show()"
      ],
      "metadata": {
        "colab": {
          "base_uri": "https://localhost:8080/"
        },
        "id": "7hHe8cKg4Qji",
        "outputId": "0c7e4ec5-24d6-4953-dbbf-ba3d487e4db1"
      },
      "execution_count": 19,
      "outputs": [
        {
          "output_type": "stream",
          "name": "stdout",
          "text": [
            "+--------------+-----------+----------+--------------+-----------+\n",
            "|     review_id|customer_id|product_id|product_parent|review_date|\n",
            "+--------------+-----------+----------+--------------+-----------+\n",
            "|R1004PYTPK6ELD|   38281029|B00004WHWF|      89143877| 2002-01-23|\n",
            "|R100EZDMO39LBZ|    1386752|B00OZBFUBY|     872540442| 2015-06-10|\n",
            "|R1011I65X7RSKT|   41907229|B00006ISBU|     654790631| 2003-12-23|\n",
            "|R101V84BKDOR1I|   12034223|B001KX5042|     279727821| 2014-08-08|\n",
            "|R101VJUP2TFB3Y|   31532612|B009DL2TBA|     586138868| 2015-01-05|\n",
            "|R1026A0A5F4D42|   30645349|B00FEKQZE6|     681125586| 2014-04-21|\n",
            "|R102X78AGOZJY3|   20191662|B000ZK9QCS|     699333646| 2010-03-26|\n",
            "|R104THW8CUUZXC|   20910843|B00DHF39EO|     100570084| 2015-06-15|\n",
            "|R105YSA8EGSJ8D|    2435449|B0053B5RGI|     413365293| 2015-02-26|\n",
            "|R106QTPT8YYZ1P|    4159081|B000TGB4UA|      17513844| 2015-04-22|\n",
            "|R106UDOJ2QSWOR|   11343413|B00KVP78FE|     177244653| 2014-11-14|\n",
            "|R109G94NZM2I7R|   22043357|B004XACA60|     432872195| 2012-03-21|\n",
            "|R10A0VLQRM6JIA|   35555943|B000059TC8|     790267453| 2002-11-21|\n",
            "|R10ADC7LCXO3V2|     888889|B00NNU07RU|     255456687| 2015-01-19|\n",
            "|R10BZXFK4OGIWR|   35143662|B0056BE0ZY|     539066453| 2012-01-16|\n",
            "|R10CHUP1MARXDJ|   49055852|B00BMFIXZG|     175986677| 2014-01-24|\n",
            "|R10CJEFAH22TBO|   49424482|B000MD3HQ4|     790701840| 2013-08-18|\n",
            "|R10D0UXARMV36T|   43836461|B0016B28Y8|     230974794| 2008-09-06|\n",
            "|R10DKHK39U0XAL|   15506517|B0053BQU4G|     593744126| 2011-11-26|\n",
            "|R10EFCTVXFYWQV|   47470194|B00JUFSH9M|       4448267| 2014-08-28|\n",
            "+--------------+-----------+----------+--------------+-----------+\n",
            "only showing top 20 rows\n",
            "\n"
          ]
        }
      ]
    },
    {
      "cell_type": "code",
      "source": [
        "# Configure settings for RDS\n",
        "mode = \"append\"\n",
        "jdbc_url=\"jdbc:postgresql://mypostgresdb.cbguk05yuhpc.us-east-1.rds.amazonaws.com:5432/my_data_class_db\"\n",
        "config = {\"user\":\"root\", \n",
        "          \"password\": \"Scoots37*\", \n",
        "          \"driver\":\"org.postgresql.Driver\"}"
      ],
      "metadata": {
        "id": "YjUbhBTQ6XFj"
      },
      "execution_count": 20,
      "outputs": []
    },
    {
      "cell_type": "code",
      "source": [
        "# Write DataFrame to active_user table in RDS\n",
        "\n",
        "review_id_table.write.jdbc(url=jdbc_url, table='Reviews', mode=mode, properties=config)"
      ],
      "metadata": {
        "id": "s6H2FWQm62P-"
      },
      "execution_count": 21,
      "outputs": []
    },
    {
      "cell_type": "code",
      "source": [
        ""
      ],
      "metadata": {
        "id": "S8HY5Qnn7L9-"
      },
      "execution_count": null,
      "outputs": []
    }
  ],
  "metadata": {
    "colab": {
      "name": "big-data-challenge-video-games.ipynb",
      "provenance": [],
      "collapsed_sections": [],
      "include_colab_link": true
    },
    "kernelspec": {
      "display_name": "Python 3",
      "language": "python",
      "name": "python3"
    },
    "language_info": {
      "codemirror_mode": {
        "name": "ipython",
        "version": 3
      },
      "file_extension": ".py",
      "mimetype": "text/x-python",
      "name": "python",
      "nbconvert_exporter": "python",
      "pygments_lexer": "ipython3",
      "version": "3.7.4"
    },
    "latex_envs": {
      "LaTeX_envs_menu_present": true,
      "autoclose": false,
      "autocomplete": true,
      "bibliofile": "biblio.bib",
      "cite_by": "apalike",
      "current_citInitial": 1,
      "eqLabelWithNumbers": true,
      "eqNumInitial": 1,
      "hotkeys": {
        "equation": "Ctrl-E",
        "itemize": "Ctrl-I"
      },
      "labels_anchors": false,
      "latex_user_defs": false,
      "report_style_numbering": false,
      "user_envs_cfg": false
    },
    "varInspector": {
      "cols": {
        "lenName": 16,
        "lenType": 16,
        "lenVar": 40
      },
      "kernels_config": {
        "python": {
          "delete_cmd_postfix": "",
          "delete_cmd_prefix": "del ",
          "library": "var_list.py",
          "varRefreshCmd": "print(var_dic_list())"
        },
        "r": {
          "delete_cmd_postfix": ") ",
          "delete_cmd_prefix": "rm(",
          "library": "var_list.r",
          "varRefreshCmd": "cat(var_dic_list()) "
        }
      },
      "types_to_exclude": [
        "module",
        "function",
        "builtin_function_or_method",
        "instance",
        "_Feature"
      ],
      "window_display": false
    }
  },
  "nbformat": 4,
  "nbformat_minor": 0
}