{
  "cells": [
    {
      "cell_type": "markdown",
      "metadata": {
        "id": "view-in-github",
        "colab_type": "text"
      },
      "source": [
        "<a href=\"https://colab.research.google.com/github/jscuteri/big-data-challenge/blob/main/big_data_challenge_musical_instruments.ipynb\" target=\"_parent\"><img src=\"https://colab.research.google.com/assets/colab-badge.svg\" alt=\"Open In Colab\"/></a>"
      ]
    },
    {
      "cell_type": "code",
      "execution_count": 1,
      "metadata": {
        "colab": {
          "base_uri": "https://localhost:8080/"
        },
        "id": "BR7kMdb2n6CD",
        "outputId": "1d3a0d20-731b-426f-a719-a2ba207e1738"
      },
      "outputs": [
        {
          "output_type": "stream",
          "name": "stdout",
          "text": [
            "Get:1 https://cloud.r-project.org/bin/linux/ubuntu bionic-cran40/ InRelease [3,626 B]\n",
            "Ign:2 https://developer.download.nvidia.com/compute/cuda/repos/ubuntu1804/x86_64  InRelease\n",
            "Get:3 http://ppa.launchpad.net/c2d4u.team/c2d4u4.0+/ubuntu bionic InRelease [15.9 kB]\n",
            "Get:4 http://security.ubuntu.com/ubuntu bionic-security InRelease [88.7 kB]\n",
            "Hit:5 http://archive.ubuntu.com/ubuntu bionic InRelease\n",
            "Ign:6 https://developer.download.nvidia.com/compute/machine-learning/repos/ubuntu1804/x86_64  InRelease\n",
            "Get:7 https://developer.download.nvidia.com/compute/cuda/repos/ubuntu1804/x86_64  Release [696 B]\n",
            "Hit:8 https://developer.download.nvidia.com/compute/machine-learning/repos/ubuntu1804/x86_64  Release\n",
            "Get:9 https://developer.download.nvidia.com/compute/cuda/repos/ubuntu1804/x86_64  Release.gpg [836 B]\n",
            "Get:10 http://archive.ubuntu.com/ubuntu bionic-updates InRelease [88.7 kB]\n",
            "Hit:11 http://ppa.launchpad.net/cran/libgit2/ubuntu bionic InRelease\n",
            "Hit:12 http://ppa.launchpad.net/deadsnakes/ppa/ubuntu bionic InRelease\n",
            "Get:13 http://archive.ubuntu.com/ubuntu bionic-backports InRelease [74.6 kB]\n",
            "Get:14 https://cloud.r-project.org/bin/linux/ubuntu bionic-cran40/ Packages [76.8 kB]\n",
            "Get:15 http://ppa.launchpad.net/graphics-drivers/ppa/ubuntu bionic InRelease [21.3 kB]\n",
            "Get:17 http://ppa.launchpad.net/c2d4u.team/c2d4u4.0+/ubuntu bionic/main Sources [1,827 kB]\n",
            "Get:18 https://developer.download.nvidia.com/compute/cuda/repos/ubuntu1804/x86_64  Packages [931 kB]\n",
            "Get:19 http://ppa.launchpad.net/c2d4u.team/c2d4u4.0+/ubuntu bionic/main amd64 Packages [936 kB]\n",
            "Get:20 http://security.ubuntu.com/ubuntu bionic-security/main amd64 Packages [2,596 kB]\n",
            "Get:21 http://security.ubuntu.com/ubuntu bionic-security/universe amd64 Packages [1,474 kB]\n",
            "Get:22 http://security.ubuntu.com/ubuntu bionic-security/restricted amd64 Packages [806 kB]\n",
            "Get:23 http://archive.ubuntu.com/ubuntu bionic-updates/universe amd64 Packages [2,252 kB]\n",
            "Get:24 http://archive.ubuntu.com/ubuntu bionic-updates/restricted amd64 Packages [840 kB]\n",
            "Get:25 http://ppa.launchpad.net/graphics-drivers/ppa/ubuntu bionic/main amd64 Packages [42.8 kB]\n",
            "Get:26 http://archive.ubuntu.com/ubuntu bionic-updates/main amd64 Packages [3,036 kB]\n",
            "Fetched 15.1 MB in 7s (2,097 kB/s)\n",
            "Reading package lists... Done\n"
          ]
        }
      ],
      "source": [
        "import os\n",
        "# Find the latest version of spark 3.0  from http://www.apache.org/dist/spark/ and enter as the spark version\n",
        "# For example:\n",
        "# spark_version = 'spark-3.0.3'\n",
        "spark_version = 'spark-3.2.1'\n",
        "os.environ['SPARK_VERSION']=spark_version\n",
        "\n",
        "# Install Spark and Java\n",
        "!apt-get update\n",
        "!apt-get install openjdk-8-jdk-headless -qq > /dev/null\n",
        "!wget -q http://www.apache.org/dist/spark/$SPARK_VERSION/$SPARK_VERSION-bin-hadoop2.7.tgz\n",
        "!tar xf $SPARK_VERSION-bin-hadoop2.7.tgz\n",
        "!pip install -q findspark\n",
        "\n",
        "# Set Environment Variables\n",
        "os.environ[\"JAVA_HOME\"] = \"/usr/lib/jvm/java-8-openjdk-amd64\"\n",
        "os.environ[\"SPARK_HOME\"] = f\"/content/{spark_version}-bin-hadoop2.7\"\n",
        "\n",
        "# Start a SparkSession\n",
        "import findspark\n",
        "findspark.init()"
      ]
    },
    {
      "cell_type": "code",
      "source": [
        "# import the SQL\n",
        "\n",
        "!wget https://jdbc.postgresql.org/download/postgresql-42.2.9.jar"
      ],
      "metadata": {
        "colab": {
          "base_uri": "https://localhost:8080/"
        },
        "id": "H1KhoRNMzb1c",
        "outputId": "0f18bff1-97b8-4548-e855-69275a402274"
      },
      "execution_count": 2,
      "outputs": [
        {
          "output_type": "stream",
          "name": "stdout",
          "text": [
            "--2022-03-06 21:37:54--  https://jdbc.postgresql.org/download/postgresql-42.2.9.jar\n",
            "Resolving jdbc.postgresql.org (jdbc.postgresql.org)... 72.32.157.228, 2001:4800:3e1:1::228\n",
            "Connecting to jdbc.postgresql.org (jdbc.postgresql.org)|72.32.157.228|:443... connected.\n",
            "HTTP request sent, awaiting response... 200 OK\n",
            "Length: 914037 (893K) [application/java-archive]\n",
            "Saving to: ‘postgresql-42.2.9.jar’\n",
            "\n",
            "postgresql-42.2.9.j 100%[===================>] 892.61K  5.73MB/s    in 0.2s    \n",
            "\n",
            "2022-03-06 21:37:54 (5.73 MB/s) - ‘postgresql-42.2.9.jar’ saved [914037/914037]\n",
            "\n"
          ]
        }
      ]
    },
    {
      "cell_type": "code",
      "source": [
        "# Create a new session\n",
        "from pyspark.sql import SparkSession\n",
        "spark = SparkSession.builder.appName(\"CloudETL\").config(\"spark.driver.extraClassPath\",\"/content/postgresql-42.2.9.jar\").getOrCreate()\n"
      ],
      "metadata": {
        "id": "5maP4IBnzbGX"
      },
      "execution_count": 3,
      "outputs": []
    },
    {
      "cell_type": "code",
      "execution_count": 4,
      "metadata": {
        "id": "hEPteR-3oADS",
        "colab": {
          "base_uri": "https://localhost:8080/"
        },
        "outputId": "9044557e-4982-444f-9e13-5553e48c9128"
      },
      "outputs": [
        {
          "output_type": "stream",
          "name": "stdout",
          "text": [
            "+-----------+-----------+--------------+----------+--------------+--------------------+-------------------+-----------+-------------+-----------+----+-----------------+--------------------+--------------------+-----------+\n",
            "|marketplace|customer_id|     review_id|product_id|product_parent|       product_title|   product_category|star_rating|helpful_votes|total_votes|vine|verified_purchase|     review_headline|         review_body|review_date|\n",
            "+-----------+-----------+--------------+----------+--------------+--------------------+-------------------+-----------+-------------+-----------+----+-----------------+--------------------+--------------------+-----------+\n",
            "|         US|   45610553| RMDCHWD0Y5OZ9|B00HH62VB6|     618218723|AGPtek® 10 Isolat...|Musical Instruments|          3|            0|          1|   N|                N|         Three Stars|Works very good, ...| 2015-08-31|\n",
            "|         US|   14640079| RZSL0BALIYUNU|B003LRN53I|     986692292|Sennheiser HD203 ...|Musical Instruments|          5|            0|          0|   N|                Y|          Five Stars|Nice headphones a...| 2015-08-31|\n",
            "|         US|    6111003| RIZR67JKUDBI0|B0006VMBHI|     603261968|AudioQuest LP rec...|Musical Instruments|          3|            0|          1|   N|                Y|         Three Stars|removes dust. doe...| 2015-08-31|\n",
            "|         US|    1546619|R27HL570VNL85F|B002B55TRG|     575084461|Hohner Inc. 560BX...|Musical Instruments|          5|            0|          0|   N|                Y|I purchase these ...|I purchase these ...| 2015-08-31|\n",
            "|         US|   12222213|R34EBU9QDWJ1GD|B00N1YPXW2|     165236328|Blue Yeti USB Mic...|Musical Instruments|          5|            0|          0|   N|                Y|          Five Stars|This is an awesom...| 2015-08-31|\n",
            "|         US|   46018513|R1WCUI4Z1SIQEO|B001N4GRGS|     134151483|Middle Atlantic P...|Musical Instruments|          5|            0|          0|   N|                N|          Five Stars|Used to cool equi...| 2015-08-31|\n",
            "|         US|   10225065| RL5LNO26GAVJ1|B009PJRMHQ|     694166585|Kmise 1pc Pickgua...|Musical Instruments|          2|            3|          4|   N|                Y|Will not Fit Epip...|Note- Does not Fi...| 2015-08-31|\n",
            "|         US|    6356995|R3GYQ5W8JHP8SB|B00NKBDAZS|     446431775|Kealoha Concert U...|Musical Instruments|          5|            0|          0|   N|                Y|          Five Stars|Well built Ukulel...| 2015-08-31|\n",
            "|         US|   35297198|R30SHYQXGG5EYC|B006MIU7U2|     125871705|Halco 80000 - MR1...|Musical Instruments|          5|            0|          0|   N|                Y|Works fine. Hope ...|Had to replace a ...| 2015-08-31|\n",
            "|         US|   32139520|R14YLXA56NP51I|B000FIBD0I|     771888534|Gator GPTBLACK Pl...|Musical Instruments|          5|            1|          1|   N|                N|I upgraded the po...|I've owned multip...| 2015-08-31|\n",
            "|         US|   36060782|R1ZH0HSH38IOTZ|B0002E52GG|      68535945|Hetman 1 - Light ...|Musical Instruments|          5|            0|          0|   N|                Y|My son's favourit...|Consistent qualit...| 2015-08-31|\n",
            "|         US|    5301309|R3H53KLLC210XI|B00RZIH52G|     725541773|Dragonpad pop fil...|Musical Instruments|          4|            0|          0|   N|                Y|Great pop filter ...|by far the best p...| 2015-08-31|\n",
            "|         US|   37472935|R3OOR877NGA8JK|B001792BAU|      46570323|DharmaObjects Rel...|Musical Instruments|          3|            0|          0|   N|                Y|                  Ok|Beautiful set. On...| 2015-08-31|\n",
            "|         US|   33578270|R1BY7WKOZ3KMH0|B009GSKW1Y|     547963417|Musiclily SSS Pla...|Musical Instruments|          2|            0|          0|   N|                Y|           Two Stars|Bridge pickup was...| 2015-08-31|\n",
            "|         US|   22070226| RXP1TFSWE8EG9|B0002F4TKA|     436074323|Vic Firth America...|Musical Instruments|          5|            0|          0|   N|                Y|          Five Stars|Feels good and la...| 2015-08-31|\n",
            "|         US|   52862655|R3J44DPP12OTLJ|B00K17YFBW|      81933093|Guitar Stand for ...|Musical Instruments|          5|            0|          0|   N|                Y|Great stand... on...|I love the stand....| 2015-08-31|\n",
            "|         US|    4427243| RFOV69SK0T676|B00EQ24HJS|     669249276|Generic 3PLY Faux...|Musical Instruments|          5|            0|          0|   N|                Y|Looks great. You ...|On time. Looks gr...| 2015-08-31|\n",
            "|         US|   14108571|R2HUWDNW62FOL3|B00IBOYTUE|     749537231|Audio 2000 6525 3...|Musical Instruments|          1|            0|          0|   N|                Y|  Poor sound quality|I was hoping it w...| 2015-08-31|\n",
            "|         US|   27314089|R1KSU30XZGR452|B00FBRUSAE|     792472601|Sawtooth ST-AMP-1...|Musical Instruments|          5|            0|          0|   N|                Y|Perfect for the b...|Good sound for it...| 2015-08-31|\n",
            "|         US|   16735445|R2TZVLLTSHA07N|B0113D2QUO|     269114019|Upado Unlimited G...|Musical Instruments|          5|            1|          1|   N|                Y|It really is a mu...|Wow! I didn't exp...| 2015-08-31|\n",
            "+-----------+-----------+--------------+----------+--------------+--------------------+-------------------+-----------+-------------+-----------+----+-----------------+--------------------+--------------------+-----------+\n",
            "only showing top 20 rows\n",
            "\n"
          ]
        }
      ],
      "source": [
        "from pyspark import SparkFiles\n",
        "from pyspark.sql.types import IntegerType\n",
        "from pyspark.sql.functions import col\n",
        "url = \"https://s3.amazonaws.com/amazon-reviews-pds/tsv/amazon_reviews_us_Musical_Instruments_v1_00.tsv.gz\"\n",
        "spark.sparkContext.addFile(url)\n",
        "instruments_df = spark.read.csv(SparkFiles.get(\"amazon_reviews_us_Musical_Instruments_v1_00.tsv.gz\"), sep=\"\\t\", header=True)\n",
        "instruments_df.show()"
      ]
    },
    {
      "cell_type": "code",
      "source": [
        "#Remove duplicates and na values\n",
        "instruments_df = instruments_df.dropna()\n",
        "instruments_df = instruments_df.dropDuplicates()\n",
        "instruments_df.printSchema()\n",
        "instruments_df.show()"
      ],
      "metadata": {
        "colab": {
          "base_uri": "https://localhost:8080/"
        },
        "id": "DsIFTgIX0n0u",
        "outputId": "3c3b7547-a07f-483d-f25b-245156646501"
      },
      "execution_count": 5,
      "outputs": [
        {
          "output_type": "stream",
          "name": "stdout",
          "text": [
            "root\n",
            " |-- marketplace: string (nullable = true)\n",
            " |-- customer_id: string (nullable = true)\n",
            " |-- review_id: string (nullable = true)\n",
            " |-- product_id: string (nullable = true)\n",
            " |-- product_parent: string (nullable = true)\n",
            " |-- product_title: string (nullable = true)\n",
            " |-- product_category: string (nullable = true)\n",
            " |-- star_rating: string (nullable = true)\n",
            " |-- helpful_votes: string (nullable = true)\n",
            " |-- total_votes: string (nullable = true)\n",
            " |-- vine: string (nullable = true)\n",
            " |-- verified_purchase: string (nullable = true)\n",
            " |-- review_headline: string (nullable = true)\n",
            " |-- review_body: string (nullable = true)\n",
            " |-- review_date: string (nullable = true)\n",
            "\n",
            "+-----------+-----------+--------------+----------+--------------+--------------------+-------------------+-----------+-------------+-----------+----+-----------------+--------------------+--------------------+-----------+\n",
            "|marketplace|customer_id|     review_id|product_id|product_parent|       product_title|   product_category|star_rating|helpful_votes|total_votes|vine|verified_purchase|     review_headline|         review_body|review_date|\n",
            "+-----------+-----------+--------------+----------+--------------+--------------------+-------------------+-----------+-------------+-----------+----+-----------------+--------------------+--------------------+-----------+\n",
            "|         US|    7728342|R10054OAXKUYEW|B010SENIZG|     445952714|Crazy Genie 20 Pc...|Musical Instruments|          5|            0|          1|   N|                Y|          Five Stars|I love how many b...| 2015-08-19|\n",
            "|         US|   30508010|R1029CP64GCQVU|B0007WOX22|     453662589|D'Addario Chromes...|Musical Instruments|          5|            0|          0|   N|                Y|Very good strings...|Very good strings...| 2015-04-28|\n",
            "|         US|   14087707|R102H3GGAZCZCF|B000LUVV5W|     826742236|First Act, Garage...|Musical Instruments|          5|            5|         10|   N|                N|Simply awesome pl...|Hello. I just rec...| 2007-10-11|\n",
            "|         US|   36446966| R102SE89P3L1Y|B007GI37CC|     961614944|CHAUVET DJ COLOR ...|Musical Instruments|          5|            1|          1|   N|                Y|          Five Stars|Using on my pool ...| 2015-04-08|\n",
            "|         US|   48245990|R1037LO2K5NA94|B00OUDSD84|     832356666|Music Stand Light...|Musical Instruments|          4|            0|          0|   N|                Y|Pretty good, does...|Pretty good, does...| 2015-04-20|\n",
            "|         US|    1603388|R103XZMKT84REI|B009FVRDGO|     838447674|BestDealUSA Clip-...|Musical Instruments|          5|            0|          0|   N|                Y|          Five Stars|      Good I like it| 2015-07-12|\n",
            "|         US|   42694168|R105WD1IDQJPBN|B00BLQTZDA|      90998007|Hola! Portable St...|Musical Instruments|          5|            7|          7|   N|                Y|  Hola Ukelele stand|It is so compact ...| 2013-06-29|\n",
            "|         US|   35587657|R106H5VHYJ4BR1|B002B5609C|     874657578|Pickboy PBFT150K ...|Musical Instruments|          4|            0|          0|   N|                Y|    Very lightweight|Nice little baton...| 2012-12-19|\n",
            "|         US|   17100472|R1085A4HD07EXZ|B005OYOBMK|     380200852|X8 Drums Ramadan ...|Musical Instruments|          4|            4|          4|   N|                Y|The sound is fant...|The drum is flawl...| 2015-04-20|\n",
            "|         US|   41391110|R108BDPC3QH8S2|B0002F4ML6|     331336631|Wuhan WU10418 18-...|Musical Instruments|          5|            1|          2|   N|                Y|Nice, affordable ...|Title basically d...| 2011-01-11|\n",
            "|         US|   42200534|R108GLO55MCWUT|B003KB2RS4|     741116158|Voodoo Lab GCP Gr...|Musical Instruments|          5|            4|          4|   N|                N|Best Midi Controller|I am a singer and...| 2012-06-29|\n",
            "|         US|   27593357|R109A70FDX4GIC|B003VWJ2K8|     195373332|    Snark SN-1 Tuner|Musical Instruments|          5|            0|          0|   N|                Y|                Wow!|This is a fabulou...| 2014-03-25|\n",
            "|         US|   15372967|R109XDH629T5CC|B0002GYW4C|     253022741|Planet Waves Poli...|Musical Instruments|          5|            0|          0|   N|                Y|Great For Wiping ...|I tend to have sw...| 2013-01-17|\n",
            "|         US|   22440996|R10B7VE7FC2NJE|B006WAB18W|     805591117|Seismic Audio SAS...|Musical Instruments|          4|            0|          0|   N|                Y|          Four Stars|awesome shipping,...| 2015-07-02|\n",
            "|         US|    4224784|R10BMUAWWSZS9J|B004XHWWT8|     768948378|  Fog Solution Quart|Musical Instruments|          4|            1|          1|   N|                Y|     halloween party|Love the product....| 2013-09-30|\n",
            "|         US|   11505428|R10BX6LDNQRCOR|B000KIPT30|     685951175|BEHRINGER MICROAM...|Musical Instruments|          5|            1|          2|   N|                Y|         Works great|I have a podcast ...| 2012-01-25|\n",
            "|         US|   24275166| R10E9I8EYTFLQ|B00G059CRQ|      26840043|ChromaCast Electr...|Musical Instruments|          4|            0|          0|   N|                Y|          Four Stars|Very nice case, z...| 2014-12-08|\n",
            "|         US|   34557590|R10ELDPHONOSYX|B003BMBNAK|     501366597|11pc Kids Boy Gir...|Musical Instruments|          1|            0|          0|   N|                Y|                Junk|You get what you ...| 2012-12-04|\n",
            "|         US|    1442817|R10FKYHGYEVG6H|B00JZEW4XS|     218979627|       Casio CTK2400|Musical Instruments|          5|            0|          0|   N|                Y|          Five Stars|            Awesome!| 2015-04-02|\n",
            "|         US|   25380294|R10GNJWZGZMRZY|B0002D0MFI|     101514452|Gibson Gear AIGG-...|Musical Instruments|          4|            0|          0|   N|                Y|Gibson Polish and...|Good polish but t...| 2013-04-18|\n",
            "+-----------+-----------+--------------+----------+--------------+--------------------+-------------------+-----------+-------------+-----------+----+-----------------+--------------------+--------------------+-----------+\n",
            "only showing top 20 rows\n",
            "\n"
          ]
        }
      ]
    },
    {
      "cell_type": "code",
      "source": [
        "# Count the number of records (rows) in the dataset\n",
        "instruments_df.count()"
      ],
      "metadata": {
        "colab": {
          "base_uri": "https://localhost:8080/"
        },
        "id": "V-e8BZGt30Xe",
        "outputId": "6476ff73-c8d7-407b-f227-09c61d267563"
      },
      "execution_count": 6,
      "outputs": [
        {
          "output_type": "execute_result",
          "data": {
            "text/plain": [
              "904663"
            ]
          },
          "metadata": {},
          "execution_count": 6
        }
      ]
    },
    {
      "cell_type": "code",
      "source": [
        "# Transform the dataset to fit the tables in the schema file\n",
        "from pyspark.sql.functions import to_date\n",
        "\n",
        "#Reviews\n",
        "review_id_table = instruments_df.select([\"review_id\",  \"customer_id\", \"product_id\", \"product_parent\", to_date(\"review_date\", 'yyyy-MM-dd').alias(\"review_date\")])\n",
        "review_id_table.show()"
      ],
      "metadata": {
        "colab": {
          "base_uri": "https://localhost:8080/"
        },
        "id": "7hHe8cKg4Qji",
        "outputId": "6bc09054-7909-4246-88c2-836e22b6865f"
      },
      "execution_count": 7,
      "outputs": [
        {
          "output_type": "stream",
          "name": "stdout",
          "text": [
            "+--------------+-----------+----------+--------------+-----------+\n",
            "|     review_id|customer_id|product_id|product_parent|review_date|\n",
            "+--------------+-----------+----------+--------------+-----------+\n",
            "|R10054OAXKUYEW|    7728342|B010SENIZG|     445952714| 2015-08-19|\n",
            "|R1029CP64GCQVU|   30508010|B0007WOX22|     453662589| 2015-04-28|\n",
            "|R102H3GGAZCZCF|   14087707|B000LUVV5W|     826742236| 2007-10-11|\n",
            "| R102SE89P3L1Y|   36446966|B007GI37CC|     961614944| 2015-04-08|\n",
            "|R1037LO2K5NA94|   48245990|B00OUDSD84|     832356666| 2015-04-20|\n",
            "|R103XZMKT84REI|    1603388|B009FVRDGO|     838447674| 2015-07-12|\n",
            "|R105WD1IDQJPBN|   42694168|B00BLQTZDA|      90998007| 2013-06-29|\n",
            "|R106H5VHYJ4BR1|   35587657|B002B5609C|     874657578| 2012-12-19|\n",
            "|R1085A4HD07EXZ|   17100472|B005OYOBMK|     380200852| 2015-04-20|\n",
            "|R108BDPC3QH8S2|   41391110|B0002F4ML6|     331336631| 2011-01-11|\n",
            "|R108GLO55MCWUT|   42200534|B003KB2RS4|     741116158| 2012-06-29|\n",
            "|R109A70FDX4GIC|   27593357|B003VWJ2K8|     195373332| 2014-03-25|\n",
            "|R109XDH629T5CC|   15372967|B0002GYW4C|     253022741| 2013-01-17|\n",
            "|R10B7VE7FC2NJE|   22440996|B006WAB18W|     805591117| 2015-07-02|\n",
            "|R10BMUAWWSZS9J|    4224784|B004XHWWT8|     768948378| 2013-09-30|\n",
            "|R10BX6LDNQRCOR|   11505428|B000KIPT30|     685951175| 2012-01-25|\n",
            "| R10E9I8EYTFLQ|   24275166|B00G059CRQ|      26840043| 2014-12-08|\n",
            "|R10ELDPHONOSYX|   34557590|B003BMBNAK|     501366597| 2012-12-04|\n",
            "|R10FKYHGYEVG6H|    1442817|B00JZEW4XS|     218979627| 2015-04-02|\n",
            "|R10GNJWZGZMRZY|   25380294|B0002D0MFI|     101514452| 2013-04-18|\n",
            "+--------------+-----------+----------+--------------+-----------+\n",
            "only showing top 20 rows\n",
            "\n"
          ]
        }
      ]
    },
    {
      "cell_type": "code",
      "source": [
        "# Column types match (integer)\n",
        "review_id_table = review_id_table.withColumn(\"customer_id\", review_id_table[\"customer_id\"].cast(IntegerType()))\n",
        "review_id_table = review_id_table.withColumn(\"product_parent\", review_id_table[\"product_parent\"].cast(IntegerType()))"
      ],
      "metadata": {
        "id": "7EgF0rVsEbf2"
      },
      "execution_count": 8,
      "outputs": []
    },
    {
      "cell_type": "code",
      "source": [
        "# Check types\n",
        "review_id_table.printSchema()"
      ],
      "metadata": {
        "colab": {
          "base_uri": "https://localhost:8080/"
        },
        "id": "8qHqxZouEhVm",
        "outputId": "92ddbc0f-d4e0-4608-c9f0-48f4edef876d"
      },
      "execution_count": 9,
      "outputs": [
        {
          "output_type": "stream",
          "name": "stdout",
          "text": [
            "root\n",
            " |-- review_id: string (nullable = true)\n",
            " |-- customer_id: integer (nullable = true)\n",
            " |-- product_id: string (nullable = true)\n",
            " |-- product_parent: integer (nullable = true)\n",
            " |-- review_date: date (nullable = true)\n",
            "\n"
          ]
        }
      ]
    },
    {
      "cell_type": "code",
      "source": [
        "#Products\n",
        "from pyspark import SparkFiles\n",
        "products = instruments_df.select([\"product_id\", \"product_title\"])\n",
        "products = products.drop_duplicates([\"product_id\", \"product_title\"])\n",
        "products.show()"
      ],
      "metadata": {
        "colab": {
          "base_uri": "https://localhost:8080/"
        },
        "id": "XbA0qviKDUxE",
        "outputId": "6b70ec14-5480-461d-f436-48b6943555f2"
      },
      "execution_count": 10,
      "outputs": [
        {
          "output_type": "stream",
          "name": "stdout",
          "text": [
            "+----------+--------------------+\n",
            "|product_id|       product_title|\n",
            "+----------+--------------------+\n",
            "|B003WZXSWM|Grover 205BC Mini...|\n",
            "|B00ASHQQKI|SUPERNIGHT 5050 1...|\n",
            "|B000T4BC1I|Aulos A211A/A511B...|\n",
            "|B005I0HTCY|Neewer Black 3.5m...|\n",
            "|B00JJ18VIE|Reliable Hardware...|\n",
            "|B00US77MXI|Pick Geek Guitar ...|\n",
            "|B00S5O7HZO|Glory B Flat Clar...|\n",
            "|B007CPU1A0|Meinl Headliner T...|\n",
            "|B0002E3D9Y|PACK A STAND Clar...|\n",
            "|B00J3W1F96|Zildjian 5A Acorn...|\n",
            "|B0006NMUJU|Shure Foam Windsc...|\n",
            "|B0018SJLFS|Tung-Sol 12AX7 Pr...|\n",
            "|B00N0HXT94|Akai Professional...|\n",
            "|B0006GRRQI|Gator G-PG ACOUST...|\n",
            "|B005DJOI8I|Neewer 3.5mm Hand...|\n",
            "|B000WS1QC6|Yamaha PA130 120 ...|\n",
            "|B00IEQ4CVK|4/4 Size Electric...|\n",
            "|B0080GZPRY|VocoPro CARRY-OKE...|\n",
            "|B00I4ZMW2C|San Fransisco Gia...|\n",
            "|B000F9NBZC|Tapco by Mackie M...|\n",
            "+----------+--------------------+\n",
            "only showing top 20 rows\n",
            "\n"
          ]
        }
      ]
    },
    {
      "cell_type": "code",
      "source": [
        "# Check types\n",
        "products.printSchema()"
      ],
      "metadata": {
        "colab": {
          "base_uri": "https://localhost:8080/"
        },
        "id": "8k4b8NynEtLS",
        "outputId": "d16ce55d-432f-4c2e-b634-b5605ccdf6bf"
      },
      "execution_count": 11,
      "outputs": [
        {
          "output_type": "stream",
          "name": "stdout",
          "text": [
            "root\n",
            " |-- product_id: string (nullable = true)\n",
            " |-- product_title: string (nullable = true)\n",
            "\n"
          ]
        }
      ]
    },
    {
      "cell_type": "code",
      "source": [
        "#Customers\n",
        "customers = instruments_df.groupby([\"customer_id\"]).count()\n",
        "customers = customers.withColumnRenamed(\"count\", \"customer_count\")\n",
        "customers.show()"
      ],
      "metadata": {
        "colab": {
          "base_uri": "https://localhost:8080/"
        },
        "id": "wecsR4W2DZqX",
        "outputId": "b93d837d-2d18-4089-dc24-95530834adbf"
      },
      "execution_count": 12,
      "outputs": [
        {
          "output_type": "stream",
          "name": "stdout",
          "text": [
            "+-----------+--------------+\n",
            "|customer_id|customer_count|\n",
            "+-----------+--------------+\n",
            "|   39007869|             1|\n",
            "|   24827391|             4|\n",
            "|   35913081|             1|\n",
            "|   43381900|            18|\n",
            "|    2601964|             8|\n",
            "|   51065955|             1|\n",
            "|   11599427|            23|\n",
            "|   38267705|             4|\n",
            "|   11909158|             5|\n",
            "|   44681263|             4|\n",
            "|   15206433|             2|\n",
            "|   10095624|             7|\n",
            "|   44216833|             1|\n",
            "|   31783146|             3|\n",
            "|   50335921|             5|\n",
            "|    9938121|             5|\n",
            "|   18304630|            19|\n",
            "|   49287327|             1|\n",
            "|    3342990|             1|\n",
            "|   20613732|             1|\n",
            "+-----------+--------------+\n",
            "only showing top 20 rows\n",
            "\n"
          ]
        }
      ]
    },
    {
      "cell_type": "code",
      "source": [
        "# Column types match (integer)\n",
        "customers = customers.withColumn(\"customer_id\", customers[\"customer_id\"].cast(IntegerType()))\n",
        "customers = customers.withColumn(\"customer_count\", customers[\"customer_count\"].cast(IntegerType()))"
      ],
      "metadata": {
        "id": "Kv2wtBjbExZB"
      },
      "execution_count": 13,
      "outputs": []
    },
    {
      "cell_type": "code",
      "source": [
        "# Check types\n",
        "customers.printSchema()"
      ],
      "metadata": {
        "colab": {
          "base_uri": "https://localhost:8080/"
        },
        "id": "8Fkqs3ttEzik",
        "outputId": "c3fca76e-581c-4e62-ba39-01abe6630ea6"
      },
      "execution_count": 14,
      "outputs": [
        {
          "output_type": "stream",
          "name": "stdout",
          "text": [
            "root\n",
            " |-- customer_id: integer (nullable = true)\n",
            " |-- customer_count: integer (nullable = false)\n",
            "\n"
          ]
        }
      ]
    },
    {
      "cell_type": "code",
      "source": [
        "#Vine\n",
        "\n",
        "vine_table = instruments_df.select([\"review_id\", \"star_rating\", \"helpful_votes\", \"total_votes\", \"vine\"])\n",
        "vine_table.show()"
      ],
      "metadata": {
        "colab": {
          "base_uri": "https://localhost:8080/"
        },
        "id": "pIxs-HM2Ddy6",
        "outputId": "695f492f-6370-4310-93be-341047e22f91"
      },
      "execution_count": 15,
      "outputs": [
        {
          "output_type": "stream",
          "name": "stdout",
          "text": [
            "+--------------+-----------+-------------+-----------+----+\n",
            "|     review_id|star_rating|helpful_votes|total_votes|vine|\n",
            "+--------------+-----------+-------------+-----------+----+\n",
            "|R10054OAXKUYEW|          5|            0|          1|   N|\n",
            "|R1029CP64GCQVU|          5|            0|          0|   N|\n",
            "|R102H3GGAZCZCF|          5|            5|         10|   N|\n",
            "| R102SE89P3L1Y|          5|            1|          1|   N|\n",
            "|R1037LO2K5NA94|          4|            0|          0|   N|\n",
            "|R103XZMKT84REI|          5|            0|          0|   N|\n",
            "|R105WD1IDQJPBN|          5|            7|          7|   N|\n",
            "|R106H5VHYJ4BR1|          4|            0|          0|   N|\n",
            "|R1085A4HD07EXZ|          4|            4|          4|   N|\n",
            "|R108BDPC3QH8S2|          5|            1|          2|   N|\n",
            "|R108GLO55MCWUT|          5|            4|          4|   N|\n",
            "|R109A70FDX4GIC|          5|            0|          0|   N|\n",
            "|R109XDH629T5CC|          5|            0|          0|   N|\n",
            "|R10B7VE7FC2NJE|          4|            0|          0|   N|\n",
            "|R10BMUAWWSZS9J|          4|            1|          1|   N|\n",
            "|R10BX6LDNQRCOR|          5|            1|          2|   N|\n",
            "| R10E9I8EYTFLQ|          4|            0|          0|   N|\n",
            "|R10ELDPHONOSYX|          1|            0|          0|   N|\n",
            "|R10FKYHGYEVG6H|          5|            0|          0|   N|\n",
            "|R10GNJWZGZMRZY|          4|            0|          0|   N|\n",
            "+--------------+-----------+-------------+-----------+----+\n",
            "only showing top 20 rows\n",
            "\n"
          ]
        }
      ]
    },
    {
      "cell_type": "code",
      "source": [
        "# Column types match (integer)\n",
        "vine_table = vine_table.withColumn(\"star_rating\", vine_table[\"star_rating\"].cast(IntegerType()))\n",
        "vine_table = vine_table.withColumn(\"helpful_votes\", vine_table[\"helpful_votes\"].cast(IntegerType()))\n",
        "vine_table = vine_table.withColumn(\"total_votes\", vine_table[\"total_votes\"].cast(IntegerType()))"
      ],
      "metadata": {
        "id": "T6ZXRCrvE65Z"
      },
      "execution_count": 16,
      "outputs": []
    },
    {
      "cell_type": "code",
      "source": [
        "# Check types\n",
        "vine_table.printSchema()"
      ],
      "metadata": {
        "colab": {
          "base_uri": "https://localhost:8080/"
        },
        "id": "XeBnkli4E7am",
        "outputId": "b0afb1c6-b9d8-4ae3-ba4c-675e8fc62b37"
      },
      "execution_count": 17,
      "outputs": [
        {
          "output_type": "stream",
          "name": "stdout",
          "text": [
            "root\n",
            " |-- review_id: string (nullable = true)\n",
            " |-- star_rating: integer (nullable = true)\n",
            " |-- helpful_votes: integer (nullable = true)\n",
            " |-- total_votes: integer (nullable = true)\n",
            " |-- vine: string (nullable = true)\n",
            "\n"
          ]
        }
      ]
    },
    {
      "cell_type": "code",
      "source": [
        "# Configure settings for RDS\n",
        "mode = \"append\"\n",
        "jdbc_url=\"jdbc:postgresql://mypostgresdb.cbguk05yuhpc.us-east-1.rds.amazonaws.com:5432/my_data_class_db\"\n",
        "config = {\"user\":\"root\", \n",
        "          \"password\": \"Scoots37*\", \n",
        "          \"driver\":\"org.postgresql.Driver\"}"
      ],
      "metadata": {
        "id": "YjUbhBTQ6XFj"
      },
      "execution_count": 18,
      "outputs": []
    },
    {
      "cell_type": "code",
      "source": [
        "# Write DataFrame to review_id table in RDS\n",
        "review_id_table.write.jdbc(url=jdbc_url, table='review_id_table', mode=mode, properties=config)"
      ],
      "metadata": {
        "id": "s6H2FWQm62P-"
      },
      "execution_count": 19,
      "outputs": []
    },
    {
      "cell_type": "code",
      "source": [
        "# Write DataFrame to products table in RDS\n",
        "products.write.jdbc(url=jdbc_url, table='products', mode=mode, properties=config)"
      ],
      "metadata": {
        "id": "S8HY5Qnn7L9-"
      },
      "execution_count": 20,
      "outputs": []
    },
    {
      "cell_type": "code",
      "source": [
        "# Write DataFrame to customers table in RDS\n",
        "customers.write.jdbc(url=jdbc_url, table='customers', mode=mode, properties=config)"
      ],
      "metadata": {
        "id": "fxlnaT4dKUGW"
      },
      "execution_count": 21,
      "outputs": []
    },
    {
      "cell_type": "code",
      "source": [
        "# Write DataFrame to vine_table table in RDS\n",
        "vine_table.write.jdbc(url=jdbc_url, table='vine_table', mode=mode, properties=config)"
      ],
      "metadata": {
        "id": "am0LmOmVKWsa"
      },
      "execution_count": 22,
      "outputs": []
    },
    {
      "cell_type": "code",
      "source": [
        ""
      ],
      "metadata": {
        "id": "5OzAOP_RKkfV"
      },
      "execution_count": null,
      "outputs": []
    }
  ],
  "metadata": {
    "colab": {
      "name": "big-data-challenge-musical-instruments.ipynb",
      "provenance": [],
      "collapsed_sections": [],
      "include_colab_link": true
    },
    "kernelspec": {
      "display_name": "Python 3",
      "language": "python",
      "name": "python3"
    },
    "language_info": {
      "codemirror_mode": {
        "name": "ipython",
        "version": 3
      },
      "file_extension": ".py",
      "mimetype": "text/x-python",
      "name": "python",
      "nbconvert_exporter": "python",
      "pygments_lexer": "ipython3",
      "version": "3.7.4"
    },
    "latex_envs": {
      "LaTeX_envs_menu_present": true,
      "autoclose": false,
      "autocomplete": true,
      "bibliofile": "biblio.bib",
      "cite_by": "apalike",
      "current_citInitial": 1,
      "eqLabelWithNumbers": true,
      "eqNumInitial": 1,
      "hotkeys": {
        "equation": "Ctrl-E",
        "itemize": "Ctrl-I"
      },
      "labels_anchors": false,
      "latex_user_defs": false,
      "report_style_numbering": false,
      "user_envs_cfg": false
    },
    "varInspector": {
      "cols": {
        "lenName": 16,
        "lenType": 16,
        "lenVar": 40
      },
      "kernels_config": {
        "python": {
          "delete_cmd_postfix": "",
          "delete_cmd_prefix": "del ",
          "library": "var_list.py",
          "varRefreshCmd": "print(var_dic_list())"
        },
        "r": {
          "delete_cmd_postfix": ") ",
          "delete_cmd_prefix": "rm(",
          "library": "var_list.r",
          "varRefreshCmd": "cat(var_dic_list()) "
        }
      },
      "types_to_exclude": [
        "module",
        "function",
        "builtin_function_or_method",
        "instance",
        "_Feature"
      ],
      "window_display": false
    }
  },
  "nbformat": 4,
  "nbformat_minor": 0
}